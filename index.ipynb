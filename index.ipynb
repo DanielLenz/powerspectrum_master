{
 "cells": [
  {
   "cell_type": "markdown",
   "metadata": {},
   "source": [
    "# Introduction to `powspecpy`"
   ]
  },
  {
   "cell_type": "markdown",
   "metadata": {},
   "source": [
    "This is the main index of the `powspecpy` package. We illustrate the basic usage and some advanced examples to faciliate the user with the API of `powspecpy` and its advantages and limitations.\n",
    "\n",
    "Most of the software is based on the excellent paper on the *Monte Carlo Apodised Spherical Transform EstimatoR* code (MASTER) by [Hivon et al. (2002)](http://adsabs.harvard.edu/abs/2002ApJ...567....2H). Throughout these notebooks and the package itself, we stick to this approach and its notation."
   ]
  },
  {
   "cell_type": "markdown",
   "metadata": {},
   "source": [
    "### 1) Binning "
   ]
  },
  {
   "cell_type": "markdown",
   "metadata": {},
   "source": [
    "We start by illustrating the simple binning in this [notebook](binning.ipynb)."
   ]
  },
  {
   "cell_type": "markdown",
   "metadata": {},
   "source": [
    "### 2) Deconvolution"
   ]
  },
  {
   "cell_type": "markdown",
   "metadata": {},
   "source": [
    "We demonstrate the full application of the `powspecpy` package in this notebook, including deconvolution, binning, and masking larger regions of the sky. You can find the notebook here: [deconvolution.ipynb](deconvolution.ipynb)."
   ]
  },
  {
   "cell_type": "markdown",
   "metadata": {},
   "source": [
    "### 3) Yet to come"
   ]
  },
  {
   "cell_type": "markdown",
   "metadata": {},
   "source": [
    "- Crosspower\n",
    "- Noise power spectrum\n",
    "- Benchmarks\n",
    "- Estimation of uncertainties\n",
    "- Detailed explanation of the method, based on [Hivon et al. (2002)](http://adsabs.harvard.edu/abs/2002ApJ...567....2H)"
   ]
  }
 ],
 "metadata": {
  "kernelspec": {
   "display_name": "Python 2",
   "language": "python",
   "name": "python2"
  },
  "language_info": {
   "codemirror_mode": {
    "name": "ipython",
    "version": 2
   },
   "file_extension": ".py",
   "mimetype": "text/x-python",
   "name": "python",
   "nbconvert_exporter": "python",
   "pygments_lexer": "ipython2",
   "version": "2.7.11"
  }
 },
 "nbformat": 4,
 "nbformat_minor": 0
}
